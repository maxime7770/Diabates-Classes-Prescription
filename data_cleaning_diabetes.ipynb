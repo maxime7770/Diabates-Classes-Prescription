{
 "cells": [
  {
   "cell_type": "markdown",
   "id": "ffcab68a-22da-4160-b828-3cef49c23396",
   "metadata": {},
   "source": [
    "# Preliminaries"
   ]
  },
  {
   "cell_type": "code",
   "execution_count": 1,
   "id": "ee7bda44-3aa7-40cb-b416-bc35488c3636",
   "metadata": {},
   "outputs": [],
   "source": [
    "# import packages\n",
    "import pandas as pd\n",
    "import numpy as np"
   ]
  },
  {
   "cell_type": "code",
   "execution_count": 2,
   "id": "4e0df19b-8002-437f-86c4-6e44750c7b6e",
   "metadata": {},
   "outputs": [],
   "source": [
    "# read raw data\n",
    "data = pd.read_csv(\"data/raw/brfss2020.csv\")"
   ]
  },
  {
   "cell_type": "code",
   "execution_count": 3,
   "id": "6f756627-001e-4ff0-b79e-6aeed3fb6f2b",
   "metadata": {},
   "outputs": [
    {
     "data": {
      "text/plain": [
       "Index(['_STATE', 'FMONTH', 'IDATE', 'IMONTH', 'IDAY', 'IYEAR', 'DISPCODE',\n",
       "       'SEQNO', '_PSU', 'CTELENM1',\n",
       "       ...\n",
       "       '_RFPSA23', '_CLNSCPY', '_SGMSCPY', '_SGMS10Y', '_RFBLDS4', '_STOLDNA',\n",
       "       '_VIRCOLN', '_SBONTIM', '_CRCREC1', '_AIDTST4'],\n",
       "      dtype='object', length=279)"
      ]
     },
     "execution_count": 3,
     "metadata": {},
     "output_type": "execute_result"
    }
   ],
   "source": [
    "data.columns"
   ]
  },
  {
   "cell_type": "markdown",
   "id": "ad17f3a0-69d0-4505-bf25-5df2524e8c05",
   "metadata": {},
   "source": [
    "# Select Relevant Columns"
   ]
  },
  {
   "cell_type": "code",
   "execution_count": 4,
   "id": "b4971d71-7b2e-4f57-a728-64b46ef65053",
   "metadata": {},
   "outputs": [],
   "source": [
    "# PHYSHLTH - How many days during the past 30 days was your physical health not good? \n",
    "# MENTHLTH - How many days during the past 30 days was your mental health not good?\n",
    "# SEXVAR - Sex at birth\n",
    "# QSTLANG - Language identifier\n",
    "# _IMPRACE - Imputed race/ethnicits\n",
    "# MSCODE - Metropolitan status code\n",
    "# _METSTAT - Metropolitan status\n",
    "# VETERAN3 - Veteran status\n",
    "# EDUCA - Highest schooling\n",
    "# EMPLOY1 - Current employment\n",
    "# INCOME2 - Annual household income\n",
    "# MARITAL - Marital status\n",
    "# CHILDREN - Number of children\n",
    "# EXERANY2 - Physical exercise\n",
    "# SLEPTIM1 - Sleep\n",
    "# SMOKE100 - Smoked 100 cigarettes\n",
    "# SMOKDAY2 - Smoking frequency\n",
    "# ALCDAY5 - Alcohol frequency\n",
    "# DRNK3GE5 - Heavy drinking frequency\n",
    "# ECIGARET - Ever e-cigarette smoker\n",
    "# ECIGNOW - Current e-cigarette smoker\n",
    "# MARIJAN1 - Marijuana frequency\n",
    "# CVDINFR4 - Ever Heart attack\n",
    "# CVDCRHD4 - Ever CVD\n",
    "# CVDSTRK3 - Ever stroke\n",
    "# ASTHMA3 - Ever asthma\n",
    "# ASTHNOW - Current asthma\n",
    "# CHCCOPD2 - Ever COPD\n",
    "# HAVARTH4 - Ever arthritis\n",
    "# ADDEPEV3 - Ever depressive order\n",
    "# CHCKDNY2 - Ever kidney disease\n",
    "# DIABETE4 - Ever diabetes\n",
    "# TOLDCFS - Ever chronic fatigue syndrome\n",
    "# HAVECFS - Current chronic fatigue syndrome\n",
    "# CIMEMLOS - Confusion or memory loss\n",
    "# CHCSCNCR - Ever skin cancer\n",
    "# CHCOCNCR - Ever other cancer\n",
    "# LASTDEN4 - Last dentist visit\n",
    "# ACEDEPRS - Live with anyone who was depressed, mentally ill, or suicidal\n",
    "# ACEDRINK - Live with anyone who was a problem drinker or alcoholic\n",
    "# ACEDRUGS - Live with anyone who used illegal street drugs or who abused prescription medications\n",
    "# ACEPRISN - Live with anyone who served time or was sentenced to serve time in a prison\n",
    "# PREGNANT - Pregnant\n",
    "# Weight2 - Weight\n",
    "# Height3 - Height\n",
    "# _BMI5 - BMI\n",
    "# DEAF - Deaf\n",
    "# BLIND - Blind\n",
    "# DECIDE - Difficulty concentrating, remembering, or making decisions\n",
    "# DIFFWALK - Difficulty walking or climbing stairs\n",
    "# DIFFDRES - Difficulty dressing or bathing\n",
    "# DIFFALON - Difficulty doing errands alone\n",
    "# FLUSHOT7 - Recent flu shot\n",
    "# CNCRDIFF - Number of cancers\n",
    "# CNCRTYP1 - Type of cancer\n",
    "# CSRVTRT3 - Currently receiving cancer treatment\n",
    "# CSRVDOC1 - Doctor providing majority of care\n",
    "# CSRVRTRN - Received instructions for routine cancer check-ups\n",
    "# CSRVINST - Received written instructions for routine cancer check-ups\n",
    "# _HCVU651 - Have any form of health coverage\n",
    "# PERSDOC2 - Have one person you think of as your personal doctor or health care provider\n",
    "# DIABEDU - Have you ever taken a course or class in how to manage your diabetes yourself?"
   ]
  },
  {
   "cell_type": "code",
   "execution_count": 5,
   "id": "a3650423-b68c-4009-bb16-021968c32fba",
   "metadata": {},
   "outputs": [],
   "source": [
    "# define columns to keep\n",
    "required_columns_data = data[[\n",
    "    # response variables\n",
    "    '_PHYS14D', '_MENT14D', 'PHYSHLTH', 'MENTHLTH',\n",
    "    # demographics\n",
    "    '_AGE80', 'SEXVAR', 'QSTLANG', '_IMPRACE', 'VETERAN3', '_BMI5CAT', 'PREGNANT',\n",
    "    # socio-economics\n",
    "     '_METSTAT', 'MSCODE', 'EDUCA', 'EMPLOY1', 'INCOME2', \n",
    "    # relationships\n",
    "    'MARITAL', 'CHILDREN', 'ACEDEPRS', 'ACEDRINK', 'ACEDRUGS', 'ACEPRISN',\n",
    "    # lifestyle\n",
    "    'EXERANY2', 'SLEPTIM1', 'SMOKE100', 'SMOKDAY2', 'AVEDRNK3', 'ECIGARET', 'ECIGNOW',\n",
    "    # health conditions\n",
    "    'CVDINFR4', 'CVDCRHD4', 'CVDSTRK3', 'ASTHMA3', 'ASTHNOW', 'CHCCOPD2', 'HAVARTH4', 'ADDEPEV3', 'CHCKDNY2', 'DIABETE4', 'CIMEMLOS',\n",
    "    'DECIDE', 'DIFFWALK', 'DIFFDRES', 'DIFFALON',\n",
    "    # disabilities\n",
    "    'DEAF', 'BLIND',\n",
    "    # health usage\n",
    "    '_HCVU651',\n",
    "    # cancer\n",
    "    'CHCSCNCR', 'CHCOCNCR', 'CNCRDIFF', 'CNCRTYP1', \n",
    "    # treatment variables\n",
    "    'DIABEDU', 'PERSDOC2'\n",
    "]]"
   ]
  },
  {
   "cell_type": "markdown",
   "id": "9bf7fd47-b7ae-4ab2-83a1-fd520469685e",
   "metadata": {},
   "source": [
    "# Subset Diabetes Patients"
   ]
  },
  {
   "cell_type": "code",
   "execution_count": 6,
   "id": "5d33c76a-1fc7-42dd-8906-61a4570ffaae",
   "metadata": {},
   "outputs": [],
   "source": [
    "# subset patients\n",
    "patients = required_columns_data[(required_columns_data['DIABEDU'] <= 2.0)]\n",
    "# patients = patients[(patients['PERSDOC2'] <= 3.0)]\n",
    "\n",
    "# remove patients with missing response\n",
    "patients = patients[patients['_PHYS14D'] != 9.0]\n",
    "patients = patients[patients['_MENT14D'] != 9.0]"
   ]
  },
  {
   "cell_type": "code",
   "execution_count": 7,
   "id": "f44747a0-db7e-4c7a-a456-ee70fb2986a9",
   "metadata": {},
   "outputs": [],
   "source": [
    "conditions = [\n",
    "    patients['PERSDOC2'] == 1.0,\n",
    "    patients['PERSDOC2'] == 2.0,\n",
    "    patients['PERSDOC2'] == 3.0\n",
    "]\n",
    "\n",
    "values = ['only_one', 'more_than_one', 'no']\n",
    "\n",
    "patients = patients.assign(personal_doctor = np.select(conditions, values, default = ''))\n",
    "patients.drop('PERSDOC2', axis = 1, inplace = True)"
   ]
  },
  {
   "cell_type": "code",
   "execution_count": 8,
   "id": "492f10e6-e6b6-4991-b190-5d6984233ade",
   "metadata": {},
   "outputs": [],
   "source": [
    "conditions = [\n",
    "    patients['DIABEDU'] == 1.0,\n",
    "    patients['DIABEDU'] == 2.0\n",
    "]\n",
    "\n",
    "values = ['yes', 'no']\n",
    "\n",
    "patients = patients.assign(diabetes_course = np.select(conditions, values, default = ''))\n",
    "patients.drop('DIABEDU', axis = 1, inplace = True)"
   ]
  },
  {
   "cell_type": "markdown",
   "id": "e170dd2a-9c8e-4d1a-961a-5dee40f111d2",
   "metadata": {},
   "source": [
    "# Process Variables"
   ]
  },
  {
   "cell_type": "markdown",
   "id": "da7a4555-5e87-42d6-ba97-31230ee34b61",
   "metadata": {},
   "source": [
    "### Response"
   ]
  },
  {
   "cell_type": "code",
   "execution_count": 9,
   "id": "55b25cba-7a80-46e0-b96e-90b6ecde8e8d",
   "metadata": {},
   "outputs": [],
   "source": [
    "patients.rename(columns = {'_PHYS14D': 'phys_health_status'}, inplace = True)\n",
    "patients.rename(columns = {'_MENT14D': 'ment_health_status'}, inplace = True)"
   ]
  },
  {
   "cell_type": "code",
   "execution_count": 10,
   "id": "300e8a19-c670-4b94-8fec-fcc8a6a1876f",
   "metadata": {},
   "outputs": [],
   "source": [
    "patients.rename(columns = {'PHYSHLTH': 'phys_health_days'}, inplace = True)\n",
    "patients['phys_health_days'].replace(88, 0, inplace = True)\n",
    "\n",
    "patients.rename(columns = {'MENTHLTH': 'ment_health_days'}, inplace = True)\n",
    "patients['ment_health_days'].replace(88, 0, inplace = True)"
   ]
  },
  {
   "cell_type": "markdown",
   "id": "5d8e08fa-ce63-4f4b-bba5-70352f166208",
   "metadata": {},
   "source": [
    "### Age"
   ]
  },
  {
   "cell_type": "code",
   "execution_count": 11,
   "id": "39548d64-2e02-4498-84b0-9113428e0a93",
   "metadata": {},
   "outputs": [],
   "source": [
    "patients.rename(columns = {'_AGE80': 'age'}, inplace = True)"
   ]
  },
  {
   "cell_type": "markdown",
   "id": "a21d4a3a-0c33-4352-999d-0b0fa7ff787c",
   "metadata": {},
   "source": [
    "### Gender"
   ]
  },
  {
   "cell_type": "code",
   "execution_count": 12,
   "id": "61bd086b-4d26-49e7-904c-6eed7d5580fd",
   "metadata": {},
   "outputs": [],
   "source": [
    "conditions = [\n",
    "    patients['SEXVAR'] == 1.0,\n",
    "    patients['SEXVAR'] == 2.0\n",
    "]\n",
    "\n",
    "values = ['male', 'female']\n",
    "\n",
    "patients = patients.assign(sex = np.select(conditions, values, default = ''))\n",
    "patients.drop('SEXVAR', axis = 1, inplace = True)"
   ]
  },
  {
   "cell_type": "markdown",
   "id": "44b9788d-6c48-44a1-a7a6-982e2f6e5a10",
   "metadata": {},
   "source": [
    "### Language"
   ]
  },
  {
   "cell_type": "code",
   "execution_count": 13,
   "id": "8e42ac70-c7d3-4ea5-b03c-8b9207dad467",
   "metadata": {},
   "outputs": [],
   "source": [
    "conditions = [\n",
    "    patients['QSTLANG'] == 1.0,\n",
    "    patients['QSTLANG'] == 2.0\n",
    "]\n",
    "\n",
    "values = ['english', 'spanish']\n",
    "\n",
    "patients = patients.assign(language = np.select(conditions, values, default = ''))\n",
    "patients.drop('QSTLANG', axis = 1, inplace = True)"
   ]
  },
  {
   "cell_type": "markdown",
   "id": "f332fd81-c8ce-4e3a-9cec-7d517e6b7cf6",
   "metadata": {},
   "source": [
    "### Race"
   ]
  },
  {
   "cell_type": "code",
   "execution_count": 14,
   "id": "d64a3867-1b60-4b94-9c6e-63fb12590737",
   "metadata": {},
   "outputs": [],
   "source": [
    "conditions = [\n",
    "    patients['_IMPRACE'] == 1.0,\n",
    "    patients['_IMPRACE'] == 2.0,\n",
    "    patients['_IMPRACE'] == 3.0,\n",
    "    patients['_IMPRACE'] == 4.0,\n",
    "    patients['_IMPRACE'] == 5.0,\n",
    "    patients['_IMPRACE'] == 6.0\n",
    "]\n",
    "\n",
    "values = ['white', 'black', 'asian', 'native', 'hispanic', 'other']\n",
    "\n",
    "patients = patients.assign(race = np.select(conditions, values, default = ''))\n",
    "patients.drop('_IMPRACE', axis = 1, inplace = True)"
   ]
  },
  {
   "cell_type": "markdown",
   "id": "18ca809e-89e3-4323-b840-242dc49a0a4d",
   "metadata": {},
   "source": [
    "### Veteran"
   ]
  },
  {
   "cell_type": "code",
   "execution_count": 15,
   "id": "4099aab5-b63c-4b8d-8ecb-e8acfb799d1d",
   "metadata": {},
   "outputs": [],
   "source": [
    "conditions = [\n",
    "    patients['VETERAN3'] == 1.0,\n",
    "    patients['VETERAN3'] == 2.0,\n",
    "    patients['VETERAN3'] == 7.0,\n",
    "    patients['VETERAN3'] == 9.0\n",
    "]\n",
    "\n",
    "values = ['yes', 'no', 'unknown', 'unknown']\n",
    "\n",
    "patients = patients.assign(veteran = np.select(conditions, values, default = ''))\n",
    "patients.drop('VETERAN3', axis = 1, inplace = True)"
   ]
  },
  {
   "cell_type": "markdown",
   "id": "6646aee3-126d-4192-a237-b634f56b0698",
   "metadata": {},
   "source": [
    "### BMI"
   ]
  },
  {
   "cell_type": "code",
   "execution_count": 16,
   "id": "9a236ffb-159f-4171-93d1-b43ca3f1cc4e",
   "metadata": {},
   "outputs": [],
   "source": [
    "conditions = [\n",
    "    patients['_BMI5CAT'] == 1.0,\n",
    "    patients['_BMI5CAT'] == 2.0,\n",
    "    patients['_BMI5CAT'] == 3.0,\n",
    "    patients['_BMI5CAT'] == 4.0\n",
    "]\n",
    "\n",
    "values = ['underweight', 'normal', 'overweight', 'obese']\n",
    "\n",
    "patients = patients.assign(bmi = np.select(conditions, values, default = ''))\n",
    "patients.drop('_BMI5CAT', axis = 1, inplace = True)"
   ]
  },
  {
   "cell_type": "markdown",
   "id": "bf98944c-d805-4de7-b9c8-78dde68546f4",
   "metadata": {},
   "source": [
    "### Metropolitan Status"
   ]
  },
  {
   "cell_type": "code",
   "execution_count": 17,
   "id": "cab06ad9-c34a-4999-9a34-2be16ad31fc3",
   "metadata": {},
   "outputs": [],
   "source": [
    "conditions = [\n",
    "    patients['_METSTAT'] == 1.0,\n",
    "    patients['_METSTAT'] == 2.0\n",
    "]\n",
    "\n",
    "values = ['yes', 'no']\n",
    "\n",
    "patients = patients.assign(metro = np.select(conditions, values, default = ''))\n",
    "patients.drop('_METSTAT', axis = 1, inplace = True)"
   ]
  },
  {
   "cell_type": "code",
   "execution_count": 18,
   "id": "e5341326-0d86-498f-9630-d001a6a27b96",
   "metadata": {},
   "outputs": [],
   "source": [
    "conditions = [\n",
    "    patients['MSCODE'] == 1.0,\n",
    "    patients['MSCODE'] == 2.0,\n",
    "    patients['MSCODE'] == 3.0,\n",
    "    patients['MSCODE'] == 5.0\n",
    "]\n",
    "\n",
    "values = ['city_center', 'city', 'county', 'outside']\n",
    "\n",
    "patients = patients.assign(metro_granular = np.select(conditions, values, default = ''))\n",
    "patients.drop('MSCODE', axis = 1, inplace = True)"
   ]
  },
  {
   "cell_type": "markdown",
   "id": "909e8e88-42bb-4484-a987-c870a0f3c3ac",
   "metadata": {},
   "source": [
    "### Education"
   ]
  },
  {
   "cell_type": "code",
   "execution_count": 19,
   "id": "6528afb8-d15b-4167-9e75-bf9a0fde2616",
   "metadata": {},
   "outputs": [],
   "source": [
    "conditions = [\n",
    "    patients['EDUCA'] == 1.0,\n",
    "    patients['EDUCA'] == 2.0,\n",
    "    patients['EDUCA'] == 3.0,\n",
    "    patients['EDUCA'] == 4.0,\n",
    "    patients['EDUCA'] == 5.0,\n",
    "    patients['EDUCA'] == 6.0\n",
    "]\n",
    "\n",
    "values = ['no_high_school', 'no_high_school', 'high_school_some', 'high_school_graduate', 'college_some', 'college_graduate']\n",
    "\n",
    "patients = patients.assign(education = np.select(conditions, values, default = ''))\n",
    "patients.drop('EDUCA', axis = 1, inplace = True)"
   ]
  },
  {
   "cell_type": "markdown",
   "id": "0b9fe072-6038-4f61-b499-de5c3c918541",
   "metadata": {},
   "source": [
    "### Employment"
   ]
  },
  {
   "cell_type": "code",
   "execution_count": 20,
   "id": "76dff6cc-9aca-4048-abbe-939f90681467",
   "metadata": {},
   "outputs": [],
   "source": [
    "conditions = [\n",
    "    patients['EMPLOY1'] == 1.0,\n",
    "    patients['EMPLOY1'] == 2.0,\n",
    "    patients['EMPLOY1'] == 3.0,\n",
    "    patients['EMPLOY1'] == 4.0,\n",
    "    patients['EMPLOY1'] == 5.0,\n",
    "    patients['EMPLOY1'] == 6.0,\n",
    "    patients['EMPLOY1'] == 7.0,\n",
    "    patients['EMPLOY1'] == 8.0\n",
    "]\n",
    "\n",
    "values = ['employed', 'employed', 'unemployed', 'unemployed', 'non_labor_force', 'non_labor_force', 'non_labor_force', 'non_labor_force']\n",
    "\n",
    "patients = patients.assign(employment = np.select(conditions, values, default = ''))\n",
    "patients.drop('EMPLOY1', axis = 1, inplace = True)"
   ]
  },
  {
   "cell_type": "markdown",
   "id": "cbf5a51b-494f-4316-b968-38008a34e165",
   "metadata": {},
   "source": [
    "### Income"
   ]
  },
  {
   "cell_type": "code",
   "execution_count": 21,
   "id": "710886cf-10ce-4667-92b2-cbe497f530bc",
   "metadata": {},
   "outputs": [],
   "source": [
    "conditions = [\n",
    "    patients['INCOME2'] == 1.0,\n",
    "    patients['INCOME2'] == 2.0,\n",
    "    patients['INCOME2'] == 3.0,\n",
    "    patients['INCOME2'] == 4.0,\n",
    "    patients['INCOME2'] == 5.0,\n",
    "    patients['INCOME2'] == 6.0,\n",
    "    patients['INCOME2'] == 7.0,\n",
    "    patients['INCOME2'] == 8.0\n",
    "]\n",
    "\n",
    "values = ['poverty', 'poverty', 'low', 'low', 'low', 'middle', 'middle', 'high']\n",
    "\n",
    "patients = patients.assign(income = np.select(conditions, values, default = ''))\n",
    "patients.drop('INCOME2', axis = 1, inplace = True)"
   ]
  },
  {
   "cell_type": "markdown",
   "id": "50a7b593-0be3-434a-89c1-4fde7e1ba926",
   "metadata": {},
   "source": [
    "### Partner Status"
   ]
  },
  {
   "cell_type": "code",
   "execution_count": 22,
   "id": "d10785f4-434f-417d-9688-eb62706f8a43",
   "metadata": {},
   "outputs": [],
   "source": [
    "conditions = [\n",
    "    patients['MARITAL'] == 1.0,\n",
    "    patients['MARITAL'] == 2.0,\n",
    "    patients['MARITAL'] == 3.0,\n",
    "    patients['MARITAL'] == 4.0,\n",
    "    patients['MARITAL'] == 5.0,\n",
    "    patients['MARITAL'] == 6.0\n",
    "]\n",
    "\n",
    "values = ['couple', 'single', 'single', 'single', 'single', 'couple']\n",
    "\n",
    "patients = patients.assign(partner = np.select(conditions, values, default = ''))\n",
    "patients.drop('MARITAL', axis = 1, inplace = True)"
   ]
  },
  {
   "cell_type": "markdown",
   "id": "a9d6573e-80aa-4478-8cd5-7779955bc534",
   "metadata": {},
   "source": [
    "### Children"
   ]
  },
  {
   "cell_type": "code",
   "execution_count": 23,
   "id": "0fc0d033-105b-4a38-868b-119a1c75a884",
   "metadata": {},
   "outputs": [],
   "source": [
    "conditions = [\n",
    "    patients['CHILDREN'] == 88.0,\n",
    "    patients['CHILDREN'] == 1.0,\n",
    "    patients['CHILDREN'] == 2.0,\n",
    "    (patients['CHILDREN'] >= 3.0) & (patients['CHILDREN'] <= 4.0),\n",
    "    (patients['CHILDREN'] >= 5.0) & (patients['CHILDREN'] <= 87.0)\n",
    "]\n",
    "\n",
    "values = ['none', 'one', 'two', 'three_to_four', 'five_plus']\n",
    "\n",
    "patients = patients.assign(children = np.select(conditions, values, default = ''))\n",
    "patients.drop('CHILDREN', axis = 1, inplace = True)"
   ]
  },
  {
   "cell_type": "markdown",
   "id": "059371c9-0e45-4bec-a208-572e24b6aa4c",
   "metadata": {},
   "source": [
    "### Household Members"
   ]
  },
  {
   "cell_type": "code",
   "execution_count": 24,
   "id": "0fe7ed13-c0c1-469e-8324-2880674d3561",
   "metadata": {},
   "outputs": [],
   "source": [
    "conditions = [\n",
    "    patients['ACEDEPRS'] == 1.0,\n",
    "    patients['ACEDEPRS'] == 2.0,\n",
    "    patients['ACEDEPRS'].isna()\n",
    "]\n",
    "\n",
    "values = ['yes', 'no', 'no']\n",
    "\n",
    "patients = patients.assign(depressed_household = np.select(conditions, values, default = ''))\n",
    "patients.drop('ACEDEPRS', axis = 1, inplace = True)"
   ]
  },
  {
   "cell_type": "code",
   "execution_count": 25,
   "id": "295304fd-6f8f-4427-aa4c-7f51bf1afdf4",
   "metadata": {},
   "outputs": [],
   "source": [
    "conditions = [\n",
    "    patients['ACEDRINK'] == 1.0,\n",
    "    patients['ACEDRINK'] == 2.0,\n",
    "    patients['ACEDRINK'].isna()\n",
    "]\n",
    "\n",
    "values = ['yes', 'no', 'no']\n",
    "\n",
    "patients = patients.assign(alcohol_household = np.select(conditions, values, default = ''))\n",
    "patients.drop('ACEDRINK', axis = 1, inplace = True)"
   ]
  },
  {
   "cell_type": "code",
   "execution_count": 26,
   "id": "8bdf8c7d-c17d-4f86-a1d6-6cadaadf276a",
   "metadata": {},
   "outputs": [],
   "source": [
    "conditions = [\n",
    "    patients['ACEDRUGS'] == 1.0,\n",
    "    patients['ACEDRUGS'] == 2.0,\n",
    "    patients['ACEDRUGS'].isna()\n",
    "]\n",
    "\n",
    "values = ['yes', 'no', 'no']\n",
    "\n",
    "patients = patients.assign(drugs_household = np.select(conditions, values, default = ''))\n",
    "patients.drop('ACEDRUGS', axis = 1, inplace = True)"
   ]
  },
  {
   "cell_type": "code",
   "execution_count": 27,
   "id": "636bb2ee-86d4-49ce-a0fc-2b8065beebb6",
   "metadata": {},
   "outputs": [],
   "source": [
    "conditions = [\n",
    "    patients['ACEPRISN'] == 1.0,\n",
    "    patients['ACEPRISN'] == 2.0,\n",
    "    patients['ACEPRISN'].isna()\n",
    "]\n",
    "\n",
    "values = ['yes', 'no', 'no']\n",
    "\n",
    "patients = patients.assign(prison_household = np.select(conditions, values, default = ''))\n",
    "patients.drop('ACEPRISN', axis = 1, inplace = True)"
   ]
  },
  {
   "cell_type": "markdown",
   "id": "c15a7889-1281-4ec8-b4d3-a59dd3165c70",
   "metadata": {},
   "source": [
    "### Exercise"
   ]
  },
  {
   "cell_type": "code",
   "execution_count": 28,
   "id": "98dc4f95-068b-4e61-a73b-c746d0127e78",
   "metadata": {},
   "outputs": [],
   "source": [
    "conditions = [\n",
    "    patients['EXERANY2'] == 1.0,\n",
    "    patients['EXERANY2'] == 2.0\n",
    "]\n",
    "\n",
    "values = ['yes', 'no']\n",
    "\n",
    "patients = patients.assign(exercise_past_month = np.select(conditions, values, default = ''))\n",
    "patients.drop('EXERANY2', axis = 1, inplace = True)"
   ]
  },
  {
   "cell_type": "markdown",
   "id": "ac36ec8d-2e53-4586-b1f2-ddb39faecd6d",
   "metadata": {},
   "source": [
    "### Sleep"
   ]
  },
  {
   "cell_type": "code",
   "execution_count": 29,
   "id": "026b128c-efcd-4bf9-bacf-57778dd18753",
   "metadata": {},
   "outputs": [],
   "source": [
    "conditions = [\n",
    "    patients['SLEPTIM1'] < 5.0,\n",
    "    (patients['SLEPTIM1'] >= 5.0) & (patients['SLEPTIM1'] < 7.0),\n",
    "    (patients['SLEPTIM1'] >= 7.0) & (patients['SLEPTIM1'] < 10.0),\n",
    "    (patients['SLEPTIM1'] >= 10.0) & (patients['SLEPTIM1'] < 25.0),\n",
    "]\n",
    "\n",
    "values = ['very_low', 'low', 'healthy', 'very_high']\n",
    "\n",
    "patients = patients.assign(sleep = np.select(conditions, values, default = ''))\n",
    "patients.drop('SLEPTIM1', axis = 1, inplace = True)"
   ]
  },
  {
   "cell_type": "markdown",
   "id": "26a60d0e-82e5-42c5-8042-cfadb1d6a3de",
   "metadata": {},
   "source": [
    "### Smoking"
   ]
  },
  {
   "cell_type": "code",
   "execution_count": 30,
   "id": "a70ea170-9de6-413e-b8c0-fc872b070c7e",
   "metadata": {},
   "outputs": [],
   "source": [
    "conditions = [\n",
    "    patients['SMOKE100'] == 1.0,\n",
    "    patients['SMOKE100'] == 2.0\n",
    "]\n",
    "\n",
    "values = ['yes', 'no']\n",
    "\n",
    "patients = patients.assign(ever_smoked_100 = np.select(conditions, values, default = ''))\n",
    "patients.drop('SMOKE100', axis = 1, inplace = True)"
   ]
  },
  {
   "cell_type": "code",
   "execution_count": 31,
   "id": "7defd761-303a-434a-86f5-60eebc114df6",
   "metadata": {},
   "outputs": [],
   "source": [
    "conditions = [\n",
    "    patients['SMOKDAY2'] == 1.0,\n",
    "    patients['SMOKDAY2'] == 2.0,\n",
    "    patients['SMOKDAY2'] == 3.0,\n",
    "    patients['SMOKDAY2'].isna()\n",
    "]\n",
    "\n",
    "values = ['often', 'sometimes', 'none', 'none']\n",
    "\n",
    "patients = patients.assign(current_smoker = np.select(conditions, values, default = ''))\n",
    "patients.drop('SMOKDAY2', axis = 1, inplace = True)"
   ]
  },
  {
   "cell_type": "markdown",
   "id": "9d5ad744-e4d0-4bbb-b6db-5afbd4141341",
   "metadata": {},
   "source": [
    "### E-Smoking"
   ]
  },
  {
   "cell_type": "code",
   "execution_count": 32,
   "id": "76f9c109-98d0-40cb-ba10-f2794f667643",
   "metadata": {},
   "outputs": [],
   "source": [
    "conditions = [\n",
    "    patients['ECIGARET'] == 1.0,\n",
    "    patients['ECIGARET'] == 2.0,\n",
    "    patients['ECIGARET'].isna()\n",
    "]\n",
    "\n",
    "values = ['yes', 'no', 'no']\n",
    "\n",
    "patients = patients.assign(ever_e_smoked = np.select(conditions, values, default = ''))\n",
    "patients.drop('ECIGARET', axis = 1, inplace = True)"
   ]
  },
  {
   "cell_type": "code",
   "execution_count": 33,
   "id": "5c77a490-13f9-42ad-b021-c265cab8fb73",
   "metadata": {},
   "outputs": [],
   "source": [
    "conditions = [\n",
    "    patients['ECIGNOW'] == 1.0,\n",
    "    patients['ECIGNOW'] == 2.0,\n",
    "    patients['ECIGNOW'] == 3.0,\n",
    "    patients['ECIGNOW'].isna()\n",
    "]\n",
    "\n",
    "values = ['often', 'sometimes', 'none', 'none']\n",
    "\n",
    "patients = patients.assign(current_e_smoker = np.select(conditions, values, default = ''))\n",
    "patients.drop('ECIGNOW', axis = 1, inplace = True)"
   ]
  },
  {
   "cell_type": "markdown",
   "id": "effa6fb8-7bd1-40c9-9369-f0a81548d541",
   "metadata": {},
   "source": [
    "### Drinking"
   ]
  },
  {
   "cell_type": "code",
   "execution_count": 34,
   "id": "c742cce5-6b8d-4558-bca6-f67ca965b797",
   "metadata": {},
   "outputs": [],
   "source": [
    "patients.loc[patients['AVEDRNK3'].isna(), 'AVEDRNK3'] = 0\n",
    "patients.loc[patients['AVEDRNK3'] == 99.0, 'AVEDRNK3'] = np.nan\n",
    "patients.loc[patients['AVEDRNK3'] == 77.0, 'AVEDRNK3'] = np.nan\n",
    "patients.rename(columns = {'AVEDRNK3': 'average_alcohol_month'}, inplace = True)"
   ]
  },
  {
   "cell_type": "markdown",
   "id": "9e457f52-a40e-47bc-ae48-e54158b526a9",
   "metadata": {},
   "source": [
    "### Health Conditions"
   ]
  },
  {
   "cell_type": "code",
   "execution_count": 35,
   "id": "323c7fa3-66c3-46fc-8bcc-b5820a363c19",
   "metadata": {},
   "outputs": [],
   "source": [
    "old_vars = ['CHCOCNCR', 'CHCSCNCR', 'CVDINFR4', 'CVDCRHD4', 'CVDSTRK3', 'ASTHMA3', 'CHCCOPD2', 'HAVARTH4', 'ADDEPEV3', 'CHCKDNY2', 'DEAF', 'BLIND', 'DECIDE', 'DIFFWALK', 'DIFFDRES', 'DIFFALON']\n",
    "new_vars = ['ever_any_cancer', 'ever_skin_cancer', 'cvd', 'chd', 'stroke', 'ever_asthma', 'copd', 'arthritis', 'depression', 'kidney_disease', 'deaf', 'blind', 'concentration', 'mobility', 'dressing_bathing', 'errands']\n",
    "\n",
    "for i in range(16):\n",
    "    \n",
    "    old_var = old_vars[i]\n",
    "    new_var = new_vars[i]\n",
    "    \n",
    "    conditions = [\n",
    "        patients[old_var] == 1.0,\n",
    "        patients[old_var] == 2.0\n",
    "    ]\n",
    "    \n",
    "    values = [\"yes\", \"no\"]\n",
    "    \n",
    "    patients = patients.assign(temp = np.select(conditions, values, default = ''))\n",
    "    patients.drop(old_var, axis = 1, inplace = True)\n",
    "    patients.rename(columns = {'temp': new_var}, inplace = True)"
   ]
  },
  {
   "cell_type": "code",
   "execution_count": 36,
   "id": "5f5ab174-0cd5-4507-838f-bd7652126468",
   "metadata": {},
   "outputs": [],
   "source": [
    "conditions = [\n",
    "    patients['ASTHNOW'] == 1.0,\n",
    "    patients['ASTHNOW'] == 2.0,\n",
    "    patients['ASTHNOW'].isna()\n",
    "]\n",
    "\n",
    "values = [\"yes\", \"no\", \"no\"]\n",
    "\n",
    "patients = patients.assign(current_asthma = np.select(conditions, values, default = ''))\n",
    "patients.drop('ASTHNOW', axis = 1, inplace = True)"
   ]
  },
  {
   "cell_type": "code",
   "execution_count": 37,
   "id": "3d59f2a5-623d-4c58-9b90-65cf644edba7",
   "metadata": {},
   "outputs": [],
   "source": [
    "conditions = [\n",
    "    patients['DIABETE4'] == 1.0,\n",
    "    patients['DIABETE4'] == 2.0,\n",
    "    patients['DIABETE4'] == 3.0,\n",
    "    patients['DIABETE4'] == 4.0\n",
    "]\n",
    "\n",
    "values = [\"yes\", \"no\", \"no\", \"borderline\"]\n",
    "\n",
    "patients = patients.assign(diabetes = np.select(conditions, values, default = ''))\n",
    "patients.drop('DIABETE4', axis = 1, inplace = True)"
   ]
  },
  {
   "cell_type": "code",
   "execution_count": 38,
   "id": "39e04b2a-764b-4aa2-a760-e44657875139",
   "metadata": {},
   "outputs": [],
   "source": [
    "conditions = [\n",
    "    patients['CIMEMLOS'] == 1.0,\n",
    "    patients['CIMEMLOS'] == 2.0,\n",
    "    patients['CIMEMLOS'].isna()\n",
    "]\n",
    "\n",
    "values = [\"yes\", \"no\", \"no\"]\n",
    "\n",
    "patients = patients.assign(cognitive_decline = np.select(conditions, values, default = ''))\n",
    "patients.drop('CIMEMLOS', axis = 1, inplace = True)"
   ]
  },
  {
   "cell_type": "code",
   "execution_count": 39,
   "id": "97990aca-1c8d-4db7-8fe1-59c7d688d50d",
   "metadata": {},
   "outputs": [],
   "source": [
    "conditions = [\n",
    "    patients['PREGNANT'] == 1.0,\n",
    "    patients['PREGNANT'] == 2.0,\n",
    "    patients['PREGNANT'].isna()\n",
    "]\n",
    "\n",
    "values = [\"yes\", \"no\", \"no\"]\n",
    "\n",
    "patients = patients.assign(pregnant = np.select(conditions, values, default = ''))\n",
    "patients.drop('PREGNANT', axis = 1, inplace = True)"
   ]
  },
  {
   "cell_type": "markdown",
   "id": "64110752-b89b-46f3-9e23-fbf71930a267",
   "metadata": {},
   "source": [
    "### Cancer Variables"
   ]
  },
  {
   "cell_type": "code",
   "execution_count": 40,
   "id": "c18a3099-d624-4318-a32b-5b30fb9a88b9",
   "metadata": {},
   "outputs": [],
   "source": [
    "conditions = [\n",
    "    patients['CNCRDIFF'] == 1.0,\n",
    "    patients['CNCRDIFF'] == 2.0,\n",
    "    patients['CNCRDIFF'] == 3.0,\n",
    "    patients['CNCRDIFF'].isna()\n",
    "]\n",
    "\n",
    "values = [\"one\", \"two\", \"three\", \"zero\"]\n",
    "\n",
    "patients = patients.assign(number_cancers = np.select(conditions, values, default = ''))\n",
    "patients.drop('CNCRDIFF', axis = 1, inplace = True)"
   ]
  },
  {
   "cell_type": "code",
   "execution_count": 41,
   "id": "b4efbda6-04d9-4f8d-9c05-b532e35e81e5",
   "metadata": {},
   "outputs": [],
   "source": [
    "conditions = [\n",
    "    patients['CNCRTYP1'].isin([1.0]),\n",
    "    patients['CNCRTYP1'].isin([2.0, 3.0, 4.0]),\n",
    "    patients['CNCRTYP1'].isin([10.0]),\n",
    "    patients['CNCRTYP1'].isin([19.0, 20.0]),\n",
    "    patients['CNCRTYP1'].isin([21.0, 22.0]),\n",
    "    patients['CNCRTYP1'].isin([77.0, 99.0]),\n",
    "    patients['CNCRTYP1'].isin([np.nan])\n",
    "]\n",
    "\n",
    "values = [\"breast\", \"cerv_endo_ovar\", \"colon\", \"prostate\", \"skin\", \"\", \"none\"]\n",
    "\n",
    "patients = patients.assign(cancer_type = np.select(conditions, values, default = \"other\"))\n",
    "patients.drop('CNCRTYP1', axis = 1, inplace = True)"
   ]
  },
  {
   "cell_type": "markdown",
   "id": "05b4ee46-0e27-4bcd-a461-c618c4ba9016",
   "metadata": {},
   "source": [
    "### Health Coverage"
   ]
  },
  {
   "cell_type": "code",
   "execution_count": 42,
   "id": "57df2c64-ab6e-4a3f-95bb-4258117e4b66",
   "metadata": {},
   "outputs": [],
   "source": [
    "conditions = [\n",
    "    patients['age'] >= 65,\n",
    "    patients['_HCVU651'] == 1.0,\n",
    "    patients['_HCVU651'] == 2.0,\n",
    "]\n",
    "\n",
    "values = [\"over_65\", \"yes\", \"no\"]\n",
    "\n",
    "patients = patients.assign(health_coverage = np.select(conditions, values, default = ''))\n",
    "patients.drop('_HCVU651', axis = 1, inplace = True)"
   ]
  },
  {
   "cell_type": "markdown",
   "id": "cceeb864-be5a-4c60-b491-f20a5f38ce97",
   "metadata": {},
   "source": [
    "# Finalize Data"
   ]
  },
  {
   "cell_type": "code",
   "execution_count": 43,
   "id": "139475e4-5625-40c4-ad10-8025dbd6f942",
   "metadata": {},
   "outputs": [],
   "source": [
    "patients = patients.dropna(subset = [\"personal_doctor\", \"diabetes_course\", \"phys_health_status\", \"ment_health_status\"])"
   ]
  },
  {
   "cell_type": "code",
   "execution_count": 44,
   "id": "c8d5f6da-de51-48d4-9384-9efb0d47525a",
   "metadata": {},
   "outputs": [],
   "source": [
    "patients.to_csv('data/input/diabetes_patients_20231205.csv', index = False)"
   ]
  },
  {
   "cell_type": "code",
   "execution_count": null,
   "id": "6bf8b061-d0cf-46ba-ab80-f1a3331ab67a",
   "metadata": {},
   "outputs": [],
   "source": []
  }
 ],
 "metadata": {
  "kernelspec": {
   "display_name": "Python 3 (ipykernel)",
   "language": "python",
   "name": "python3"
  },
  "language_info": {
   "codemirror_mode": {
    "name": "ipython",
    "version": 3
   },
   "file_extension": ".py",
   "mimetype": "text/x-python",
   "name": "python",
   "nbconvert_exporter": "python",
   "pygments_lexer": "ipython3",
   "version": "3.10.12"
  }
 },
 "nbformat": 4,
 "nbformat_minor": 5
}
