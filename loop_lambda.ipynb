{
 "cells": [
  {
   "cell_type": "code",
   "execution_count": 4,
   "id": "1caa0499-74a1-46b7-8f09-17f762002cb0",
   "metadata": {},
   "outputs": [],
   "source": [
    "using CSV, DataFrames, Statistics, Random;"
   ]
  },
  {
   "cell_type": "code",
   "execution_count": 5,
   "id": "7f93e8ca-be4c-4be8-bc90-ec337a56f6fa",
   "metadata": {},
   "outputs": [],
   "source": [
    "seed = 123;"
   ]
  },
  {
   "cell_type": "code",
   "execution_count": 6,
   "id": "15f779e8-0039-49c3-8ae8-3922662875ef",
   "metadata": {},
   "outputs": [
    {
     "name": "stdout",
     "output_type": "stream",
     "text": [
      "Loop for lambda = 0.0\n",
      "Rewards matrix built\n",
      "Loop for lambda = 0.2\n",
      "Rewards matrix built\n",
      "Loop for lambda = 0.4\n",
      "Rewards matrix built\n",
      "Loop for lambda = 0.6\n",
      "Rewards matrix built\n",
      "Loop for lambda = 0.8\n",
      "Rewards matrix built\n",
      "Loop for lambda = 1.0\n",
      "Rewards matrix built\n"
     ]
    }
   ],
   "source": [
    "results = DataFrame(lambda = [], base_score = [], base_score_actual = [], new_score = [])\n",
    "train_scores_df = DataFrame(AUC = [], treatment = [], non_treatment = [])\n",
    "test_scores_df = DataFrame(AUC = [], treatment = [], non_treatment = [])\n",
    "\n",
    "\n",
    "# identify outcomes\n",
    "lambda_values = 0:0.2:1\n",
    "for lambda in lambda_values\n",
    "\n",
    "    println(\"Loop for lambda = $lambda\")\n",
    "\n",
    "    df = CSV.read(\"data/input/imputed_diabetes_patients_20231205.csv\", DataFrame);\n",
    "\n",
    "    # split into train and test\n",
    "    train_df = filter(row -> row.train_flag == 1, df)\n",
    "    test_df = filter(row -> row.train_flag == 0, df)\n",
    "\n",
    "    \n",
    "    train_outcomes = lambda .* train_df.phys_health_days + (1-lambda) .* train_df.ment_health_days\n",
    "    test_outcomes = lambda .* test_df.phys_health_days + (1-lambda) .* test_df.ment_health_days\n",
    "    \n",
    "    # identify treatments\n",
    "    train_treatments = train_df.diabetes_course\n",
    "    test_treatments = test_df.diabetes_course\n",
    "    \n",
    "    # identify features\n",
    "    drop_vars = [\n",
    "        \"phys_health_status\", \"phys_health_days\", \"ment_health_status\", \"ment_health_days\", \n",
    "        \"diabetes_course\", \n",
    "        \"depressed_household\", \"alcohol_household\", \"drugs_household\", \"prison_household\", \"sleep\",\n",
    "        \"train_flag\"\n",
    "    ]\n",
    "        \n",
    "    train_X = select!(train_df, Not(drop_vars))\n",
    "    test_X = select!(test_df, Not(drop_vars));\n",
    "    \n",
    "    model_propensity = IAI.GridSearch(\n",
    "    IAI.XGBoostClassifier(\n",
    "        random_seed = seed,\n",
    "        criterion = :entropy,\n",
    "        max_categoric_levels_before_warning = 15\n",
    "    ), \n",
    "    minbucket = [5, 10, 20, 50],\n",
    "    max_depth = [3, 5, 7, 9], \n",
    "    num_estimators = [20, 50, 100, 200]\n",
    "    );\n",
    "\n",
    "    model_outcome = IAI.GridSearch(\n",
    "    IAI.XGBoostRegressor(\n",
    "        random_seed = seed,\n",
    "        criterion = :tweedie,\n",
    "        max_categoric_levels_before_warning = 15\n",
    "    ), \n",
    "    minbucket = [5, 10, 20, 50],\n",
    "    max_depth = [3, 5, 7, 9], \n",
    "    num_estimators = [20, 50, 100, 200]\n",
    "    );\n",
    "\n",
    "    reward_lnr = IAI.CategoricalRegressionRewardEstimator(\n",
    "    propensity_estimator = model_propensity,\n",
    "    outcome_estimator = model_outcome,\n",
    "    reward_estimator = :doubly_robust,\n",
    "    random_seed = seed,\n",
    "    propensity_insample_num_folds = 5, \n",
    "    outcome_insample_num_folds = 5,\n",
    "    propensity_min_value = 0.001\n",
    "    );\n",
    "\n",
    "    train_predictions, train_reward_score = IAI.fit_predict!(\n",
    "    reward_lnr, train_X, train_treatments, train_outcomes,\n",
    "    propensity_score_criterion = :auc, \n",
    "    outcome_score_criterion = :tweedie\n",
    "    );\n",
    "\n",
    "    train_rewards = train_predictions[:reward]\n",
    "\n",
    "    println(\"Rewards matrix built\")\n",
    "\n",
    "    grid = IAI.GridSearch(\n",
    "    IAI.OptimalTreePolicyMinimizer(\n",
    "        random_seed = seed,\n",
    "        max_categoric_levels_before_warning = 20,\n",
    "    ),\n",
    "    max_depth = 2:6,\n",
    "    minbucket = [5, 10, 20, 50]\n",
    "    )\n",
    "\n",
    "    IAI.fit!(grid, train_X, train_rewards)\n",
    "\n",
    "    IAI.write_html(\"tree1207_lambda=$lambda\", grid)\n",
    "    IAI.write_questionnaire(\"questions1207_lambda=$lambda\", grid)\n",
    "\n",
    "    test_predictions, test_reward_score = IAI.fit_predict!(\n",
    "    reward_lnr, test_X, test_treatments, test_outcomes,\n",
    "    propensity_score_criterion = :auc, \n",
    "    outcome_score_criterion = :tweedie\n",
    "    )\n",
    "    \n",
    "    test_rewards = test_predictions[:reward]\n",
    "\n",
    "    base_score = mean([test_rewards[i, test_treatments[i]] for i in 1:length(test_treatments)])\n",
    "\n",
    "    base_score_actual = mean(test_outcomes)\n",
    "\n",
    "    pred_treatments = IAI.predict(grid, test_X)\n",
    "    pred_outcomes = [test_rewards[i, pred_treatments[i]] for i in 1:length(pred_treatments)]\n",
    "    new_score = mean(pred_outcomes)\n",
    "\n",
    "    new_row = (lambda = lambda, base_score = base_score, base_score_actual = base_score_actual, new_score = new_score)\n",
    "    push!(results, new_row)\n",
    "    CSV.write(\"results_lambda_1207.csv\", results)\n",
    "\n",
    "    new_row_train = (AUC = train_reward_score[:propensity], treatment = train_reward_score[:outcome][\"yes\"], non_treatment = train_reward_score[:outcome][\"no\"])\n",
    "    new_row_test = (AUC = test_reward_score[:propensity], treatment = test_reward_score[:outcome][\"yes\"], non_treatment = test_reward_score[:outcome][\"no\"])\n",
    "    push!(train_scores_df, new_row_train)\n",
    "    push!(test_scores_df, new_row_test)\n",
    "    CSV.write(\"train_scores_df_1207.csv\", train_scores_df)\n",
    "    CSV.write(\"test_scores_df_1207.csv\", test_scores_df)\n",
    "    \n",
    "\n",
    "end\n",
    "    \n",
    "\n",
    "    "
   ]
  },
  {
   "cell_type": "code",
   "execution_count": 12,
   "id": "86f5629b-daa5-47b7-a16f-418b2f080c82",
   "metadata": {},
   "outputs": [
    {
     "data": {
      "text/html": [
       "<div><div style = \"float: left;\"><span>6×4 DataFrame</span></div><div style = \"clear: both;\"></div></div><div class = \"data-frame\" style = \"overflow-x: scroll;\"><table class = \"data-frame\" style = \"margin-bottom: 6px;\"><thead><tr class = \"header\"><th class = \"rowNumber\" style = \"font-weight: bold; text-align: right;\">Row</th><th style = \"text-align: left;\">lambda</th><th style = \"text-align: left;\">base_score</th><th style = \"text-align: left;\">base_score_actual</th><th style = \"text-align: left;\">new_score</th></tr><tr class = \"subheader headerLastRow\"><th class = \"rowNumber\" style = \"font-weight: bold; text-align: right;\"></th><th title = \"Any\" style = \"text-align: left;\">Any</th><th title = \"Any\" style = \"text-align: left;\">Any</th><th title = \"Any\" style = \"text-align: left;\">Any</th><th title = \"Any\" style = \"text-align: left;\">Any</th></tr></thead><tbody><tr><td class = \"rowNumber\" style = \"font-weight: bold; text-align: right;\">1</td><td style = \"text-align: left;\">0.0</td><td style = \"text-align: left;\">5.51443</td><td style = \"text-align: left;\">4.4619</td><td style = \"text-align: left;\">4.47131</td></tr><tr><td class = \"rowNumber\" style = \"font-weight: bold; text-align: right;\">2</td><td style = \"text-align: left;\">0.2</td><td style = \"text-align: left;\">5.73175</td><td style = \"text-align: left;\">4.93875</td><td style = \"text-align: left;\">5.0052</td></tr><tr><td class = \"rowNumber\" style = \"font-weight: bold; text-align: right;\">3</td><td style = \"text-align: left;\">0.4</td><td style = \"text-align: left;\">6.15759</td><td style = \"text-align: left;\">5.4156</td><td style = \"text-align: left;\">5.70556</td></tr><tr><td class = \"rowNumber\" style = \"font-weight: bold; text-align: right;\">4</td><td style = \"text-align: left;\">0.6</td><td style = \"text-align: left;\">6.6536</td><td style = \"text-align: left;\">5.89244</td><td style = \"text-align: left;\">6.19639</td></tr><tr><td class = \"rowNumber\" style = \"font-weight: bold; text-align: right;\">5</td><td style = \"text-align: left;\">0.8</td><td style = \"text-align: left;\">7.21633</td><td style = \"text-align: left;\">6.36929</td><td style = \"text-align: left;\">6.58153</td></tr><tr><td class = \"rowNumber\" style = \"font-weight: bold; text-align: right;\">6</td><td style = \"text-align: left;\">1.0</td><td style = \"text-align: left;\">7.71774</td><td style = \"text-align: left;\">6.84614</td><td style = \"text-align: left;\">7.1476</td></tr></tbody></table></div>"
      ],
      "text/latex": [
       "\\begin{tabular}{r|cccc}\n",
       "\t& lambda & base\\_score & base\\_score\\_actual & new\\_score\\\\\n",
       "\t\\hline\n",
       "\t& Any & Any & Any & Any\\\\\n",
       "\t\\hline\n",
       "\t1 & 0.0 & 5.51443 & 4.4619 & 4.47131 \\\\\n",
       "\t2 & 0.2 & 5.73175 & 4.93875 & 5.0052 \\\\\n",
       "\t3 & 0.4 & 6.15759 & 5.4156 & 5.70556 \\\\\n",
       "\t4 & 0.6 & 6.6536 & 5.89244 & 6.19639 \\\\\n",
       "\t5 & 0.8 & 7.21633 & 6.36929 & 6.58153 \\\\\n",
       "\t6 & 1.0 & 7.71774 & 6.84614 & 7.1476 \\\\\n",
       "\\end{tabular}\n"
      ],
      "text/plain": [
       "\u001b[1m6×4 DataFrame\n",
       "\u001b[1m Row │\u001b[1m lambda \u001b[1m base_score \u001b[1m base_score_actual \u001b[1m new_score\n",
       "     │\u001b[90m Any    \u001b[90m Any        \u001b[90m Any               \u001b[90m Any\n",
       "─────┼──────────────────────────────────────────────────\n",
       "   1 │ 0.0     5.51443     4.4619             4.47131\n",
       "   2 │ 0.2     5.73175     4.93875            5.0052\n",
       "   3 │ 0.4     6.15759     5.4156             5.70556\n",
       "   4 │ 0.6     6.6536      5.89244            6.19639\n",
       "   5 │ 0.8     7.21633     6.36929            6.58153\n",
       "   6 │ 1.0     7.71774     6.84614            7.1476"
      ]
     },
     "execution_count": 12,
     "metadata": {},
     "output_type": "execute_result"
    }
   ],
   "source": [
    "results"
   ]
  },
  {
   "cell_type": "code",
   "execution_count": 16,
   "id": "21df29f1-7c8c-4f80-8e5c-125a96031d3c",
   "metadata": {},
   "outputs": [],
   "source": [
    "lambda = 0\n",
    "\n",
    "df = CSV.read(\"data/input/imputed_diabetes_patients_20231205.csv\", DataFrame);\n",
    "\n",
    "# split into train and test\n",
    "train_df = filter(row -> row.train_flag == 1, df)\n",
    "test_df = filter(row -> row.train_flag == 0, df)\n",
    "\n",
    "train_outcomes = lambda .* train_df.phys_health_days + (1-lambda) .* train_df.ment_health_days\n",
    "test_outcomes = lambda .* test_df.phys_health_days + (1-lambda) .* test_df.ment_health_days\n",
    "\n",
    "# identify treatments\n",
    "train_treatments = train_df.diabetes_course\n",
    "test_treatments = test_df.diabetes_course\n",
    "\n",
    "# identify features\n",
    "train_X = select!(train_df, Not([\"phys_health_status\", \"phys_health_days\", \"ment_health_status\", \"ment_health_days\", \"diabetes_course\", \"train_flag\"]))\n",
    "test_X = select!(test_df, Not([\"phys_health_status\", \"phys_health_days\", \"ment_health_status\", \"ment_health_days\", \"diabetes_course\", \"train_flag\"]));\n",
    "\n",
    "model_propensity = IAI.GridSearch(\n",
    "IAI.XGBoostClassifier(\n",
    "    random_seed = seed,\n",
    "    criterion = :entropy,\n",
    "    max_categoric_levels_before_warning = 15\n",
    "), \n",
    "minbucket = [5, 10, 20, 50],\n",
    "max_depth = [3, 5, 7, 9], \n",
    "num_estimators = [20, 50, 100, 200]\n",
    ");\n",
    "\n",
    "model_outcome = IAI.GridSearch(\n",
    "IAI.XGBoostRegressor(\n",
    "    random_seed = seed,\n",
    "    criterion = :tweedie,\n",
    "    max_categoric_levels_before_warning = 15\n",
    "), \n",
    "minbucket = [5, 10, 20, 50],\n",
    "max_depth = [3, 5, 7, 9], \n",
    "num_estimators = [20, 50, 100, 200]\n",
    ");\n",
    "\n",
    "reward_lnr = IAI.CategoricalRegressionRewardEstimator(\n",
    "propensity_estimator = model_propensity,\n",
    "outcome_estimator = model_outcome,\n",
    "reward_estimator = :doubly_robust,\n",
    "random_seed = seed,\n",
    "propensity_insample_num_folds = 5, \n",
    "outcome_insample_num_folds = 5,\n",
    "propensity_min_value = 0.001\n",
    ");\n",
    "\n",
    "train_predictions, train_reward_score = IAI.fit_predict!(\n",
    "    reward_lnr, train_X, train_treatments, train_outcomes,\n",
    "    propensity_score_criterion = :auc, \n",
    "    outcome_score_criterion = :tweedie\n",
    "    );\n"
   ]
  },
  {
   "cell_type": "code",
   "execution_count": 28,
   "id": "5e2613cc-b902-432b-b5e7-09813a2d91cc",
   "metadata": {},
   "outputs": [
    {
     "data": {
      "text/plain": [
       "0.6132962136238772"
      ]
     },
     "execution_count": 28,
     "metadata": {},
     "output_type": "execute_result"
    }
   ],
   "source": [
    "train_reward_score[:propensity]"
   ]
  },
  {
   "cell_type": "code",
   "execution_count": 31,
   "id": "576d759f-7e88-4b63-a58a-9af3c5a16528",
   "metadata": {},
   "outputs": [
    {
     "data": {
      "text/plain": [
       "0.2548924600029042"
      ]
     },
     "execution_count": 31,
     "metadata": {},
     "output_type": "execute_result"
    }
   ],
   "source": [
    "train_reward_score[:outcome][\"yes\"]"
   ]
  },
  {
   "cell_type": "code",
   "execution_count": 33,
   "id": "fec13dd8-e4b9-4d96-8181-93ecb0b33d39",
   "metadata": {},
   "outputs": [
    {
     "data": {
      "text/plain": [
       "0.21492555572579092"
      ]
     },
     "execution_count": 33,
     "metadata": {},
     "output_type": "execute_result"
    }
   ],
   "source": [
    "train_reward_score[:outcome][\"no\"]"
   ]
  },
  {
   "cell_type": "code",
   "execution_count": 14,
   "id": "65e3270d-7fd6-4431-bcd8-4dd4c7176a01",
   "metadata": {},
   "outputs": [
    {
     "ename": "LoadError",
     "evalue": "UndefVarError: `train_predictions` not defined",
     "output_type": "error",
     "traceback": [
      "UndefVarError: `train_predictions` not defined",
      "",
      "Stacktrace:",
      " [1] top-level scope",
      "   @ In[14]:1"
     ]
    }
   ],
   "source": [
    "train_rewards = train_predictions[:reward]\n",
    "\n",
    "println(\"Rewards matrix built\")\n",
    "\n",
    "grid = IAI.GridSearch(\n",
    "IAI.OptimalTreePolicyMinimizer(\n",
    "    random_seed = seed,\n",
    "    max_categoric_levels_before_warning = 20,\n",
    "),\n",
    "max_depth = 2:6,\n",
    "minbucket = [5, 10, 20, 50]\n",
    ")\n",
    "\n",
    "IAI.fit!(grid, train_X, train_rewards)\n",
    "\n",
    "#IAI.write_html(\"tree1205_lambda=$lambda\", grid)\n",
    "#IAI.write_questionnaire(\"questions_lambda=$lambda\", grid)\n",
    "\n",
    "test_predictions, test_reward_score = IAI.fit_predict!(\n",
    "reward_lnr, test_X, test_treatments, test_outcomes,\n",
    "propensity_score_criterion = :auc, \n",
    "outcome_score_criterion = :tweedie\n",
    ")\n",
    "\n",
    "test_rewards = test_predictions[:reward]\n",
    "\n",
    "base_score = mean([test_rewards[i, test_treatments[i]] for i in 1:length(test_treatments)])\n",
    "\n",
    "base_score_actual = mean(test_outcomes)\n",
    "\n",
    "pred_treatments = IAI.predict(grid, test_X)\n",
    "pred_outcomes = [test_rewards[i, pred_treatments[i]] for i in 1:length(pred_treatments)]\n",
    "new_score = mean(pred_outcomes)"
   ]
  },
  {
   "cell_type": "code",
   "execution_count": null,
   "id": "c6023cdf-a9d9-44de-a976-725ede2e4288",
   "metadata": {},
   "outputs": [],
   "source": []
  }
 ],
 "metadata": {
  "kernelspec": {
   "display_name": "Julia (IAI) 1.9.3",
   "language": "julia",
   "name": "julia-_iai_-1.9"
  },
  "language_info": {
   "file_extension": ".jl",
   "mimetype": "application/julia",
   "name": "julia",
   "version": "1.9.3"
  }
 },
 "nbformat": 4,
 "nbformat_minor": 5
}
