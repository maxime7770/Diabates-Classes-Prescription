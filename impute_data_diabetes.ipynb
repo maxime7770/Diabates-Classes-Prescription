{
 "cells": [
  {
   "cell_type": "markdown",
   "id": "bf355a5f-176c-46a4-8e2b-3d17a66a7367",
   "metadata": {},
   "source": [
    "# Preliminaries"
   ]
  },
  {
   "cell_type": "code",
   "execution_count": 1,
   "id": "2de3dc9b-4dfe-4615-958a-96ab16de1feb",
   "metadata": {},
   "outputs": [],
   "source": [
    "using CSV, DataFrames, Statistics, Random;"
   ]
  },
  {
   "cell_type": "code",
   "execution_count": 2,
   "id": "37c56e15-7370-4004-ac20-893f060261e1",
   "metadata": {},
   "outputs": [],
   "source": [
    "# read data\n",
    "df = CSV.read(\"data/input/diabetes_patients_20231205.csv\", DataFrame);"
   ]
  },
  {
   "cell_type": "code",
   "execution_count": 3,
   "id": "4a31202c-0023-4a52-8383-35985fe1c06b",
   "metadata": {},
   "outputs": [],
   "source": [
    "# define key variables\n",
    "treatment_var = \"diabetes_course\"\n",
    "outcomes_var = \"phys_health_status\";"
   ]
  },
  {
   "cell_type": "markdown",
   "id": "7699e44c-83e5-4a26-876c-15956d3a5eed",
   "metadata": {},
   "source": [
    "# Split Train and Test"
   ]
  },
  {
   "cell_type": "code",
   "execution_count": 4,
   "id": "7c57b2be-ff1e-4301-a683-bebf37049411",
   "metadata": {},
   "outputs": [],
   "source": [
    "treatments = df[:, treatment_var]\n",
    "outcomes = df[:, outcomes_var]\n",
    "X = df[:, Not([treatment_var, outcomes_var])];"
   ]
  },
  {
   "cell_type": "code",
   "execution_count": 5,
   "id": "72979486-6760-40b7-83f0-55e21979d5d0",
   "metadata": {},
   "outputs": [],
   "source": [
    "(train_X, train_treatments, train_outcomes), (test_X, test_treatments, test_outcomes) =\n",
    "    IAI.split_data(:policy_maximize, X, treatments, outcomes, seed = 123, train_proportion = 0.5);"
   ]
  },
  {
   "cell_type": "markdown",
   "id": "457e63f1-8066-427e-a5bb-f1682a8d401d",
   "metadata": {},
   "source": [
    "# Identify Variables Missing Data"
   ]
  },
  {
   "cell_type": "code",
   "execution_count": 6,
   "id": "19aaba4e-2c31-4a43-81d1-2e63d60dae63",
   "metadata": {},
   "outputs": [],
   "source": [
    "# check for missing data\n",
    "var_desc = describe(X, :nmissing, :nnonmissing)\n",
    "var_desc.propmissing = var_desc.nmissing ./ (var_desc.nmissing .+ var_desc.nnonmissing)\n",
    "\n",
    "# identify variables to remove\n",
    "threshold = 0.25\n",
    "vars_to_remove = filter(row -> row.propmissing > threshold, var_desc).variable\n",
    "\n",
    "# identify variables to impute\n",
    "var_to_impute = Symbol.(filter(row -> 0 < row.propmissing <= threshold , var_desc).variable);"
   ]
  },
  {
   "cell_type": "code",
   "execution_count": 7,
   "id": "195225ba-1fac-4101-b913-456b5a22d477",
   "metadata": {},
   "outputs": [],
   "source": [
    "# remove variables identified\n",
    "select!(train_X, Not(vars_to_remove))\n",
    "select!(test_X, Not(vars_to_remove));"
   ]
  },
  {
   "cell_type": "code",
   "execution_count": 8,
   "id": "adb22314-f7e2-41db-b06f-1e5aba382a4d",
   "metadata": {},
   "outputs": [
    {
     "name": "stderr",
     "output_type": "stream",
     "text": [
      "\u001b[33m\u001b[1m[ \u001b[22m\u001b[39m\u001b[33m\u001b[1mWarning: \u001b[22m\u001b[39mThis copy of Interpretable AI software is for academic purposes only and not for commercial use.\n",
      "\u001b[33m\u001b[1m┌ \u001b[22m\u001b[39m\u001b[33m\u001b[1mWarning: \u001b[22m\u001b[39mInterpretable AI license expires soon: 2023-12-31T00:00:00. If you need to renew, please send us the following machine ID:\n",
      "\u001b[33m\u001b[1m└ \u001b[22m\u001b[39m61a69b87e52c12e8ab8b3e441abe4229bbb733e16cf47bdd9b99756507901d19\n"
     ]
    }
   ],
   "source": [
    "# create learner\n",
    "lnr = IAI.OptKNNImputationLearner(random_seed = 15095)\n",
    "\n",
    "# fit learner and transform train data\n",
    "train_X = IAI.fit_transform!(lnr, train_X)\n",
    "\n",
    "# transform test data\n",
    "test_X = IAI.transform(lnr, test_X);"
   ]
  },
  {
   "cell_type": "markdown",
   "id": "57000f91-55cc-4eb3-8066-ac4617cd9b8b",
   "metadata": {},
   "source": [
    "# Re-compile Data"
   ]
  },
  {
   "cell_type": "code",
   "execution_count": 9,
   "id": "ed24cb5a-ceda-4e82-ba2d-8d18791aa929",
   "metadata": {},
   "outputs": [],
   "source": [
    "# create train flags\n",
    "train_X[!, :train_flag] .= 1\n",
    "test_X[!, :train_flag] .= 0\n",
    "\n",
    "# re-attach response and treatment\n",
    "train_X.phys_health_status = train_outcomes\n",
    "test_X.phys_health_status = test_outcomes\n",
    "train_X.diabetes_course = train_treatments\n",
    "test_X.diabetes_course = test_treatments\n",
    "\n",
    "# combined data\n",
    "patients = vcat(train_X, test_X);"
   ]
  },
  {
   "cell_type": "markdown",
   "id": "d2bd19b1-7c5d-439e-9ff4-9fe2089c6a66",
   "metadata": {},
   "source": [
    "# Create New Variables"
   ]
  },
  {
   "cell_type": "code",
   "execution_count": 10,
   "id": "ce4b6de0-07d0-4365-9b31-6c93e49f298c",
   "metadata": {},
   "outputs": [],
   "source": [
    "# create binary variable for un-safe household\n",
    "conditions = [\n",
    "    (patients.depressed_household .== \"yes\") .| (patients.alcohol_household .== \"yes\") .| (patients.drugs_household .== \"yes\") .| (patients.prison_household .== \"yes\"),\n",
    "    (patients.depressed_household .== \"no\") .& (patients.alcohol_household .== \"no\") .& (patients.drugs_household .== \"no\") .& (patients.prison_household .== \"no\")\n",
    "]\n",
    "\n",
    "values = [\"yes\", \"no\"]\n",
    "\n",
    "patients.unsafe_household .= ifelse.(conditions[1], values[1], ifelse.(conditions[2], values[2], \"\"));"
   ]
  },
  {
   "cell_type": "code",
   "execution_count": 11,
   "id": "687b40b4-ae98-4014-ac44-96f8d82898eb",
   "metadata": {},
   "outputs": [],
   "source": [
    "# create condition count variable\n",
    "patients[!, :physical_conditions] = (patients.ever_any_cancer .== \"yes\") + (patients.cvd .== \"yes\") + (patients.chd .== \"yes\") + (patients.stroke .== \"yes\") + (patients.ever_asthma .== \"yes\") + (patients.copd .== \"yes\") + (patients.arthritis .== \"yes\") + (patients.kidney_disease .== \"yes\") + (patients.deaf .== \"yes\") + (patients.blind .== \"yes\")\n",
    "patients[!, :mental_conditions] = (patients.depression .== \"yes\") + (patients.cognitive_decline .== \"yes\")\n",
    "patients[!, :any_conditions] = patients.mental_conditions .+ patients.physical_conditions\n",
    "patients[!, :activities_daily_living] = (patients.mobility .== \"yes\") + (patients.dressing_bathing .== \"yes\") + (patients.errands .== \"yes\") + (patients.concentration .== \"yes\");"
   ]
  },
  {
   "cell_type": "markdown",
   "id": "0503b62e-4f09-4cb5-bee7-fd769d23c730",
   "metadata": {},
   "source": [
    "# Save Data"
   ]
  },
  {
   "cell_type": "code",
   "execution_count": 12,
   "id": "26583a9b-9387-41b0-82a8-10bf05af6509",
   "metadata": {},
   "outputs": [
    {
     "data": {
      "text/plain": [
       "\"data/input/imputed_diabetes_patients_20231205.csv\""
      ]
     },
     "execution_count": 12,
     "metadata": {},
     "output_type": "execute_result"
    }
   ],
   "source": [
    "CSV.write(\"data/input/imputed_diabetes_patients_20231205.csv\", patients)"
   ]
  }
 ],
 "metadata": {
  "kernelspec": {
   "display_name": "Julia 1.9.3",
   "language": "julia",
   "name": "julia-1.9"
  },
  "language_info": {
   "file_extension": ".jl",
   "mimetype": "application/julia",
   "name": "julia",
   "version": "1.9.3"
  }
 },
 "nbformat": 4,
 "nbformat_minor": 5
}
